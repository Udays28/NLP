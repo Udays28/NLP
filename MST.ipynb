{
  "cells": [
    {
      "cell_type": "code",
      "execution_count": null,
      "metadata": {
        "id": "wOYOTfnj-P8L"
      },
      "outputs": [],
      "source": [
        "import nltk\n",
        "from nltk.tokenize import word_tokenize\n",
        "from nltk.corpus import stopwords\n",
        "from nltk.stem import PorterStemmer, WordNetLemmatizer\n",
        "from collections import Counter\n",
        "import re"
      ]
    },
    {
      "cell_type": "code",
      "execution_count": null,
      "metadata": {
        "colab": {
          "base_uri": "https://localhost:8080/"
        },
        "id": "9ZWGAt8v-q3y",
        "outputId": "adc5118d-a5c6-4f29-ff21-0eb922ca94f3"
      },
      "outputs": [
        {
          "name": "stderr",
          "output_type": "stream",
          "text": [
            "[nltk_data] Downloading package punkt to /root/nltk_data...\n",
            "[nltk_data]   Unzipping tokenizers/punkt.zip.\n",
            "[nltk_data] Downloading package stopwords to /root/nltk_data...\n",
            "[nltk_data]   Unzipping corpora/stopwords.zip.\n",
            "[nltk_data] Downloading package wordnet to /root/nltk_data...\n",
            "[nltk_data] Downloading package averaged_perceptron_tagger to\n",
            "[nltk_data]     /root/nltk_data...\n",
            "[nltk_data]   Unzipping taggers/averaged_perceptron_tagger.zip.\n"
          ]
        },
        {
          "data": {
            "text/plain": [
              "True"
            ]
          },
          "execution_count": 3,
          "metadata": {},
          "output_type": "execute_result"
        }
      ],
      "source": [
        "nltk.download('punkt')\n",
        "nltk.download('stopwords')\n",
        "nltk.download('wordnet')\n",
        "nltk.download('averaged_perceptron_tagger')"
      ]
    },
    {
      "cell_type": "code",
      "execution_count": null,
      "metadata": {
        "id": "2WRJsLAe-tSm"
      },
      "outputs": [],
      "source": [
        "story = \"\"\"\n",
        "Mr Oliver, an Anglo-Indian teacher, was returning to his school late one night, on the outskirts of the hill station of Simla. From before Kipling’s time,\n",
        "the school had been run on English public school lines and the boys, most of them from wealthy Indian families, wore blazers, caps and ties. Life magazine,\n",
        "in a feature on India, had once called it the ‘Eton of the East’. Mr Oliver had been teaching in the school for several years.\n",
        "\n",
        "The Simla bazaar, with its cinemas and restaurants, was about three miles from the school and Mr Oliver, a bachelor, usually strolled into the town in the\n",
        "\n",
        "evening, returning after dark, when he would take a short cut through the pine forest.\n",
        "\n",
        "When there was a strong wind the pine trees made sad, eerie sounds that kept most people to the main road. But Mr Oliver was not a nervous or imaginative man.\n",
        "He carried a torch and its gleam—the batteries were running down—moved fitfully down the narrow forest path. When its flickering light fell on the figure of a\n",
        "boy, who was sitting alone on a rock, Mr Oliver stopped. Boys were not supposed to be out after dark.\n",
        "\n",
        "‘What are you doing out here, boy?’ asked Mr Oliver sharply, moving closer so that he could recognize the miscreant. But even as he approached the boy, Mr Oliver\n",
        "sensed that something was wrong. The boy appeared to be crying. His head hung down, he held his face in his hands and his body shook convulsively. It was a strange,\n",
        "soundless weeping and Mr Oliver felt distinctly uneasy.\n",
        "\n",
        "‘Well, what’s the matter?’ he asked, his anger giving way to concern. ‘What are you crying for?’ The boy would not answer or look up. His body continued to be racked\n",
        "with silent sobbing. ‘Come on, boy, you shouldn’t be out here at this hour. Tell me the trouble. Look up!’ The boy looked up. He took his hands from his face and\n",
        "looked up at his teacher. The light from Mr Oliver’s torch fell on the boy’s face—if you could call it a face.\n",
        "\n",
        "It had no eyes, ears, nose or mouth. It was just a round smooth head—with a school cap on top of it! And that’s where the story should end. But for Mr Oliver it\n",
        "did not end here.\n",
        "\n",
        "The torch fell from his trembling hand. He turned and scrambled down the path, running blindly through the trees and calling for help. He was still running towards\n",
        "the school buildings when he saw a lantern swinging in the middle of the path. Mr Oliver stumbled up to the watchman, gasping for breath. ‘What is it, sahib?’ asked\n",
        "the watchman. ‘Has there been an accident? Why are you running?’\n",
        "\n",
        "‘I saw something—something horrible—a boy weeping in the forest—and he had no face!’\n",
        "\n",
        "‘No face, sahib?’\n",
        "\n",
        "‘No eyes, nose, mouth—nothing!’\n",
        "\n",
        "‘Do you mean it was like this, sahib?’ asked the watchman and raised the lamp to his own face. The watchman had no eyes, no ears, no features at all—not even an\n",
        "eyebrow! And that’s when the wind blew the lamp out.\n",
        "\"\"\""
      ]
    },
    {
      "cell_type": "code",
      "execution_count": null,
      "metadata": {
        "colab": {
          "background_save": true
        },
        "id": "VcAJkY0HCRAF",
        "outputId": "ff4ccc4c-57fa-4303-b02e-c650593e9df2"
      },
      "outputs": [
        {
          "name": "stdout",
          "output_type": "stream",
          "text": [
            "Sentence Tokenization: ['\\nMr Oliver, an Anglo-Indian teacher, was returning to his school late one night, on the outskirts of the hill station of Simla.', 'From before Kipling’s time, \\nthe school had been run on English public school lines and the boys, most of them from wealthy Indian families, wore blazers, caps and ties.', 'Life magazine, \\nin a feature on India, had once called it the ‘Eton of the East’.', 'Mr Oliver had been teaching in the school for several years.', 'The Simla bazaar, with its cinemas and restaurants, was about three miles from the school and Mr Oliver, a bachelor, usually strolled into the town in the \\n\\nevening, returning after dark, when he would take a short cut through the pine forest.']\n"
          ]
        }
      ],
      "source": [
        "sentences = sent_tokenize(story)\n",
        "print(\"Tokenization:\", tokens[:20])"
      ]
    },
    {
      "cell_type": "code",
      "execution_count": null,
      "metadata": {
        "colab": {
          "base_uri": "https://localhost:8080/"
        },
        "id": "zaXa5qUJ-2Kj",
        "outputId": "16b3d008-c472-400c-b1d0-4fffb867623b"
      },
      "outputs": [
        {
          "name": "stdout",
          "output_type": "stream",
          "text": [
            "Tokenization: ['Mr', 'Oliver', ',', 'an', 'Anglo-Indian', 'teacher', ',', 'was', 'returning', 'to', 'his', 'school', 'late', 'one', 'night', ',', 'on', 'the', 'outskirts', 'of']\n"
          ]
        }
      ],
      "source": [
        "# Tokenization\n",
        "tokens = word_tokenize(story)\n",
        "\n",
        "print(\"Tokenization:\", tokens[:20])"
      ]
    },
    {
      "cell_type": "code",
      "execution_count": null,
      "metadata": {
        "colab": {
          "base_uri": "https://localhost:8080/"
        },
        "id": "0YDb_UhY-7jD",
        "outputId": "a33f46ce-7990-472b-d226-4e9313bfb630"
      },
      "outputs": [
        {
          "name": "stdout",
          "output_type": "stream",
          "text": [
            "Filtered Tokens (Stopwords Removed): ['Mr', 'Oliver', 'Anglo-Indian', 'teacher', 'returning', 'school', 'late', 'one', 'night', 'outskirts', 'hill', 'station', 'Simla', 'Kipling', '’', 'time', 'school', 'run', 'English', 'public']\n"
          ]
        }
      ],
      "source": [
        "# Removing stopwords\n",
        "stop_words = (stopwords.words('english'))\n",
        "stop_words.extend ([',', '.'])\n",
        "filtered_tokens = [word for word in tokens if word.lower() not in stop_words]\n",
        "\n",
        "print(\"Filtered Tokens (Stopwords Removed):\", filtered_tokens[:20])"
      ]
    },
    {
      "cell_type": "code",
      "execution_count": null,
      "metadata": {
        "colab": {
          "base_uri": "https://localhost:8080/"
        },
        "id": "vmvKgbFO-_iA",
        "outputId": "151088fe-3463-4927-ea99-f02c7335b9c8"
      },
      "outputs": [
        {
          "name": "stdout",
          "output_type": "stream",
          "text": [
            "Stemmed Tokens: ['mr', 'oliv', 'anglo-indian', 'teacher', 'return', 'school', 'late', 'one', 'night', 'outskirt', 'hill', 'station', 'simla', 'kipl', '’']\n"
          ]
        }
      ],
      "source": [
        "# Stemming\n",
        "porter = PorterStemmer()\n",
        "stemmed_tokens = [porter.stem(word) for word in filtered_tokens]\n",
        "\n",
        "print(\"Stemmed Tokens:\", stemmed_tokens[:15])"
      ]
    },
    {
      "cell_type": "code",
      "execution_count": null,
      "metadata": {
        "colab": {
          "base_uri": "https://localhost:8080/"
        },
        "id": "hMVOSaDM_Bf9",
        "outputId": "c0cfa03b-1b32-4261-f24c-a16714ee195d"
      },
      "outputs": [
        {
          "name": "stdout",
          "output_type": "stream",
          "text": [
            "Lemmatized Tokens: ['Mr', 'Oliver', 'Anglo-Indian', 'teacher', 'returning', 'school', 'late', 'one', 'night', 'outskirt', 'hill', 'station', 'Simla', 'Kipling', '’']\n"
          ]
        }
      ],
      "source": [
        "# Lemmatization\n",
        "lemmatizer = WordNetLemmatizer()\n",
        "lemmatized_tokens = [lemmatizer.lemmatize(word) for word in filtered_tokens]\n",
        "\n",
        "print(\"Lemmatized Tokens:\", lemmatized_tokens[:15])"
      ]
    },
    {
      "cell_type": "code",
      "execution_count": null,
      "metadata": {
        "colab": {
          "base_uri": "https://localhost:8080/"
        },
        "id": "S6DIHgis_D4W",
        "outputId": "41147341-dca9-462b-ce3a-5bb56ac9a961"
      },
      "outputs": [
        {
          "name": "stdout",
          "output_type": "stream",
          "text": [
            "Frequency Distribution: [('’', 18), ('Mr', 11), ('Oliver', 11), ('‘', 11), ('boy', 10), ('?', 8), ('school', 7), ('face', 6), ('!', 5), ('running', 4)]\n"
          ]
        }
      ],
      "source": [
        "# Frequency distribution\n",
        "frequency_distribution = Counter(lemmatized_tokens)\n",
        "\n",
        "print(\"Frequency Distribution:\", frequency_distribution.most_common(10))"
      ]
    },
    {
      "cell_type": "code",
      "execution_count": null,
      "metadata": {
        "id": "g6Xr9rp5_HVn"
      },
      "outputs": [],
      "source": [
        "# POS tagging\n",
        "tagged_tokens = nltk.pos_tag(filtered_tokens)"
      ]
    },
    {
      "cell_type": "code",
      "execution_count": null,
      "metadata": {
        "colab": {
          "base_uri": "https://localhost:8080/"
        },
        "id": "9piK33Uc_KMH",
        "outputId": "cae4172d-9108-4900-b23e-743205aeaa53"
      },
      "outputs": [
        {
          "name": "stdout",
          "output_type": "stream",
          "text": [
            "Main Character: Oliver\n"
          ]
        }
      ],
      "source": [
        "# Function to extract main character using POS tags\n",
        "def extract_main_character(tagged_tokens):\n",
        "    character_names = [\"Oliver\", \"Watchman\"]\n",
        "    character_counts = Counter([word for word, tag in tagged_tokens if tag.startswith('NNP') and word in character_names])\n",
        "    main_character = character_counts.most_common(1)[0][0] if character_counts else None\n",
        "    return main_character\n",
        "\n",
        "main_character = extract_main_character(tagged_tokens)\n",
        "\n",
        "print(\"Main Character:\", main_character)"
      ]
    }
  ],
  "metadata": {
    "colab": {
      "provenance": []
    },
    "kernelspec": {
      "display_name": "Python 3",
      "name": "python3"
    },
    "language_info": {
      "name": "python"
    }
  },
  "nbformat": 4,
  "nbformat_minor": 0
}