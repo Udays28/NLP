{
  "cells": [
    {
      "cell_type": "code",
      "execution_count": 1,
      "metadata": {
        "colab": {
          "base_uri": "https://localhost:8080/"
        },
        "id": "WF2KhQnB7EkP",
        "outputId": "b25e6e17-ed47-4024-f20a-13c6f9e49611"
      },
      "outputs": [
        {
          "name": "stdout",
          "output_type": "stream",
          "text": [
            "360\n"
          ]
        }
      ],
      "source": [
        "story = \"\"\"\n",
        "Once upon a time, there was a little girl named Alice who lived in a small village. She was a kind and curious girl, and she loved to explore the woods near her home.\n",
        "One day, Alice was exploring the woods when she came across a strange hole in the ground. She peered down into the hole, but it was too dark to see anything. Alice was curious, so she climbed down the hole.\n",
        "Alice found herself in a long, dark tunnel. She walked for a long time, until she finally came to a door. Alice opened the door and stepped inside.\n",
        "Alice found herself in a beautiful garden. The flowers were all different colors, and the trees were full of fruit. Alice had never seen anything so beautiful.\n",
        "Alice wandered through the garden, until she came to a table set for tea. Sitting at the table was a strange creature. It was about the size of a cat, with long ears and a pointy tail.\n",
        "\"Hello,\" said the creature. \"My name is the Cheshire Cat. Would you like to have some tea?\"\n",
        "Alice was a little bit scared, but she was also curious. She sat down at the table and the Cheshire Cat poured her a cup of tea.\n",
        "\"So,\" said the Cheshire Cat. \"What brings you to my garden?\"\n",
        "\"I was exploring the woods,\" said Alice. \"And I found your hole in the ground. So I climbed down.\"\n",
        "\"Well, I'm glad you did,\" said the Cheshire Cat. \"It's not often that I have visitors.\"\n",
        "Alice and the Cheshire Cat talked for a long time. Alice told the Cheshire Cat about her life in the village, and the Cheshire Cat told Alice about his life in the garden.\n",
        "Finally, it was time for Alice to go home. She said goodbye to the Cheshire Cat and climbed back up the hole.\n",
        "When Alice got home, she told her parents all about her adventure. But they didn't believe her. They said that she must have been dreaming.\n",
        "But Alice knew that she hadn't been dreaming. She had really been to the Cheshire Cat's garden. And she would never forget her adventure.\n",
        "\"\"\"\n",
        "\n",
        "print(len(story.split()))"
      ]
    },
    {
      "cell_type": "code",
      "execution_count": 2,
      "metadata": {
        "colab": {
          "base_uri": "https://localhost:8080/"
        },
        "id": "0TiUbrEJ-XLa",
        "outputId": "d4641973-f4bf-44ff-c2c6-125d261b4d1d"
      },
      "outputs": [
        {
          "name": "stderr",
          "output_type": "stream",
          "text": [
            "[nltk_data] Downloading package punkt to\n",
            "[nltk_data]     C:\\Users\\Hp\\AppData\\Roaming\\nltk_data...\n",
            "[nltk_data]   Package punkt is already up-to-date!\n",
            "[nltk_data] Downloading package averaged_perceptron_tagger to\n",
            "[nltk_data]     C:\\Users\\Hp\\AppData\\Roaming\\nltk_data...\n",
            "[nltk_data]   Package averaged_perceptron_tagger is already up-to-\n",
            "[nltk_data]       date!\n",
            "[nltk_data] Downloading package maxent_ne_chunker to\n",
            "[nltk_data]     C:\\Users\\Hp\\AppData\\Roaming\\nltk_data...\n",
            "[nltk_data]   Package maxent_ne_chunker is already up-to-date!\n",
            "[nltk_data] Downloading package words to\n",
            "[nltk_data]     C:\\Users\\Hp\\AppData\\Roaming\\nltk_data...\n",
            "[nltk_data]   Package words is already up-to-date!\n"
          ]
        },
        {
          "data": {
            "text/plain": [
              "True"
            ]
          },
          "execution_count": 2,
          "metadata": {},
          "output_type": "execute_result"
        }
      ],
      "source": [
        "import nltk\n",
        "\n",
        "nltk.download('punkt')\n",
        "nltk.download('averaged_perceptron_tagger')\n",
        "nltk.download('maxent_ne_chunker')\n",
        "nltk.download('words')"
      ]
    },
    {
      "cell_type": "code",
      "execution_count": 3,
      "metadata": {
        "id": "uRyK5lcs-XOJ"
      },
      "outputs": [],
      "source": [
        "sentences = nltk.sent_tokenize(story)\n",
        "characters = []\n",
        "for sent in sentences:\n",
        "    for chunk in nltk.ne_chunk(nltk.pos_tag(nltk.word_tokenize(sent))):\n",
        "        if hasattr(chunk, 'label') and chunk.label() == 'PERSON':\n",
        "            characters.extend(c[0] for c in chunk)"
      ]
    },
    {
      "cell_type": "code",
      "execution_count": 4,
      "metadata": {
        "colab": {
          "base_uri": "https://localhost:8080/"
        },
        "id": "2UlsydHk-XTJ",
        "outputId": "01c7336b-5f8a-4871-d2af-1f1e967ffb6d"
      },
      "outputs": [
        {
          "name": "stdout",
          "output_type": "stream",
          "text": [
            "Named Entities: ['Alice', 'Alice', 'Alice', 'Alice', 'Alice', 'Alice']\n",
            "Characters: {'Alice'}\n"
          ]
        }
      ],
      "source": [
        "print(f\"Named Entities: {characters}\")\n",
        "print(f\"Characters: {set(characters)}\")"
      ]
    }
  ],
  "metadata": {
    "colab": {
      "provenance": []
    },
    "kernelspec": {
      "display_name": "Python 3",
      "name": "python3"
    },
    "language_info": {
      "codemirror_mode": {
        "name": "ipython",
        "version": 3
      },
      "file_extension": ".py",
      "mimetype": "text/x-python",
      "name": "python",
      "nbconvert_exporter": "python",
      "pygments_lexer": "ipython3",
      "version": "3.11.4"
    }
  },
  "nbformat": 4,
  "nbformat_minor": 0
}
